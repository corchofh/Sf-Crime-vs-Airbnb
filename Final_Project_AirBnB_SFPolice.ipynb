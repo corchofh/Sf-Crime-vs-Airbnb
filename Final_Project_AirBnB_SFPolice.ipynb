{
 "cells": [
  {
   "cell_type": "code",
   "execution_count": 3,
   "id": "9908a4b5-d99d-4bbc-9987-f6557a57decb",
   "metadata": {
    "execution": {
     "iopub.execute_input": "2024-12-02T21:24:35.516307Z",
     "iopub.status.busy": "2024-12-02T21:24:35.516055Z",
     "iopub.status.idle": "2024-12-02T21:24:35.534437Z",
     "shell.execute_reply": "2024-12-02T21:24:35.533785Z",
     "shell.execute_reply.started": "2024-12-02T21:24:35.516283Z"
    }
   },
   "outputs": [],
   "source": [
    "import pandas as pd"
   ]
  },
  {
   "cell_type": "code",
   "execution_count": 5,
   "id": "34c8068e-af05-4f78-9fa1-87dbeead7203",
   "metadata": {
    "execution": {
     "iopub.execute_input": "2024-12-02T21:24:35.564266Z",
     "iopub.status.busy": "2024-12-02T21:24:35.563931Z",
     "iopub.status.idle": "2024-12-02T21:24:35.625049Z",
     "shell.execute_reply": "2024-12-02T21:24:35.624372Z",
     "shell.execute_reply.started": "2024-12-02T21:24:35.564240Z"
    }
   },
   "outputs": [],
   "source": [
    "import numpy as np"
   ]
  },
  {
   "cell_type": "code",
   "execution_count": 123,
   "id": "60720c55-3eba-4823-bd40-7a499407bcf6",
   "metadata": {
    "execution": {
     "iopub.execute_input": "2024-12-02T21:34:57.653632Z",
     "iopub.status.busy": "2024-12-02T21:34:57.653379Z",
     "iopub.status.idle": "2024-12-02T21:35:06.049255Z",
     "shell.execute_reply": "2024-12-02T21:35:06.048710Z",
     "shell.execute_reply.started": "2024-12-02T21:34:57.653616Z"
    }
   },
   "outputs": [
    {
     "name": "stderr",
     "output_type": "stream",
     "text": [
      "Matplotlib is building the font cache; this may take a moment.\n"
     ]
    }
   ],
   "source": [
    "import matplotlib.pyplot as plt\n"
   ]
  },
  {
   "cell_type": "code",
   "execution_count": 125,
   "id": "b3cf7c78-4e4f-47ef-be04-97b910e15b15",
   "metadata": {
    "execution": {
     "iopub.execute_input": "2024-12-02T21:35:06.069754Z",
     "iopub.status.busy": "2024-12-02T21:35:06.069446Z",
     "iopub.status.idle": "2024-12-02T21:35:08.621007Z",
     "shell.execute_reply": "2024-12-02T21:35:08.620131Z",
     "shell.execute_reply.started": "2024-12-02T21:35:06.069730Z"
    }
   },
   "outputs": [],
   "source": [
    "import seaborn as sns"
   ]
  },
  {
   "cell_type": "code",
   "execution_count": 7,
   "id": "e2607b1b-b43b-40c6-bf4e-58b4476bca64",
   "metadata": {
    "execution": {
     "iopub.execute_input": "2024-12-02T21:24:35.653798Z",
     "iopub.status.busy": "2024-12-02T21:24:35.653591Z",
     "iopub.status.idle": "2024-12-02T21:24:35.706786Z",
     "shell.execute_reply": "2024-12-02T21:24:35.706281Z",
     "shell.execute_reply.started": "2024-12-02T21:24:35.653784Z"
    }
   },
   "outputs": [],
   "source": [
    "df_Air=pd.read_csv(\"listings.csv\")"
   ]
  },
  {
   "cell_type": "code",
   "execution_count": 12,
   "id": "f3c72406-96da-4a04-9291-be7665d0b7b5",
   "metadata": {
    "execution": {
     "iopub.execute_input": "2024-12-02T21:24:40.440419Z",
     "iopub.status.busy": "2024-12-02T21:24:40.440195Z",
     "iopub.status.idle": "2024-12-02T21:24:40.460533Z",
     "shell.execute_reply": "2024-12-02T21:24:40.459799Z",
     "shell.execute_reply.started": "2024-12-02T21:24:40.440402Z"
    }
   },
   "outputs": [],
   "source": [
    "df_Air.drop(['name','host_id', 'host_name', 'neighbourhood_group',\n",
    "             'license'] ,axis=1, inplace=True)"
   ]
  },
  {
   "cell_type": "code",
   "execution_count": 15,
   "id": "fb546f4f-97ec-4742-818f-efebc1fb59fd",
   "metadata": {
    "execution": {
     "iopub.execute_input": "2024-12-02T21:24:43.952190Z",
     "iopub.status.busy": "2024-12-02T21:24:43.951927Z",
     "iopub.status.idle": "2024-12-02T21:24:43.975509Z",
     "shell.execute_reply": "2024-12-02T21:24:43.974883Z",
     "shell.execute_reply.started": "2024-12-02T21:24:43.952168Z"
    }
   },
   "outputs": [],
   "source": [
    "#Convertion of Object to datatime64\n",
    "df_Air['last_review']= pd.to_datetime(df_Air['last_review'], errors='coerce')"
   ]
  },
  {
   "cell_type": "code",
   "execution_count": 18,
   "id": "0bdec306-21f8-4e36-a1c8-dca44faf2063",
   "metadata": {
    "execution": {
     "iopub.execute_input": "2024-12-02T21:24:44.794689Z",
     "iopub.status.busy": "2024-12-02T21:24:44.794459Z",
     "iopub.status.idle": "2024-12-02T21:24:44.810564Z",
     "shell.execute_reply": "2024-12-02T21:24:44.810033Z",
     "shell.execute_reply.started": "2024-12-02T21:24:44.794666Z"
    }
   },
   "outputs": [],
   "source": [
    "df_Air.loc[:, 'neighbourhood'] = df_Air['neighbourhood'].str.replace('/YBI', '', regex=False)"
   ]
  },
  {
   "cell_type": "code",
   "execution_count": 21,
   "id": "0ff52229-e8d4-49c1-8a68-e115d6f4bbc3",
   "metadata": {
    "execution": {
     "iopub.execute_input": "2024-12-02T21:24:45.436552Z",
     "iopub.status.busy": "2024-12-02T21:24:45.436332Z",
     "iopub.status.idle": "2024-12-02T21:24:50.731014Z",
     "shell.execute_reply": "2024-12-02T21:24:50.730382Z",
     "shell.execute_reply.started": "2024-12-02T21:24:45.436537Z"
    }
   },
   "outputs": [],
   "source": [
    "df_police=pd.read_csv(\"Police_Reports__2018_to_Present.csv\")"
   ]
  },
  {
   "cell_type": "code",
   "execution_count": 23,
   "id": "5822f943-5a22-4f57-99ce-a676454d1fce",
   "metadata": {
    "execution": {
     "iopub.execute_input": "2024-12-02T21:24:50.747901Z",
     "iopub.status.busy": "2024-12-02T21:24:50.747631Z",
     "iopub.status.idle": "2024-12-02T21:24:50.872113Z",
     "shell.execute_reply": "2024-12-02T21:24:50.871506Z",
     "shell.execute_reply.started": "2024-12-02T21:24:50.747881Z"
    }
   },
   "outputs": [],
   "source": [
    "df_police.drop(['Incident Datetime','Incident Day of Week','Report Datetime','Row ID',\n",
    "                'Incident ID','CAD Number','Report Type Code','Report Type Description', 'Filed Online', \n",
    "                'Incident Code','Incident Subcategory',\t'Incident Description',\t'Resolution',\n",
    "                'CNN','Supervisor District','Supervisor District 2012','Point','Neighborhoods',\n",
    "                'ESNCAG - Boundary File','Central Market/Tenderloin Boundary Polygon - Updated',\n",
    "                'Civic Center Harm Reduction Project Boundary','HSOC Zones as of 2018-06-05',\n",
    "                'Invest In Neighborhoods (IIN) Areas','Current Supervisor Districts','Current Police Districts'], axis=1,\n",
    "inplace=True)\n"
   ]
  },
  {
   "cell_type": "code",
   "execution_count": 25,
   "id": "919f8b6b-26d2-4619-bbe4-504a0b4e1fdd",
   "metadata": {
    "execution": {
     "iopub.execute_input": "2024-12-02T21:24:50.887494Z",
     "iopub.status.busy": "2024-12-02T21:24:50.887273Z",
     "iopub.status.idle": "2024-12-02T21:24:50.906886Z",
     "shell.execute_reply": "2024-12-02T21:24:50.906206Z",
     "shell.execute_reply.started": "2024-12-02T21:24:50.887478Z"
    }
   },
   "outputs": [],
   "source": [
    "# Changing \" Analysis Neighborhood to neighbourhood and Latitude to latitude, Longitude to longitude. "
   ]
  },
  {
   "cell_type": "code",
   "execution_count": 27,
   "id": "75993b0a-c424-4237-adde-b8695287bf38",
   "metadata": {
    "execution": {
     "iopub.execute_input": "2024-12-02T21:24:50.938801Z",
     "iopub.status.busy": "2024-12-02T21:24:50.938298Z",
     "iopub.status.idle": "2024-12-02T21:24:50.957951Z",
     "shell.execute_reply": "2024-12-02T21:24:50.957445Z",
     "shell.execute_reply.started": "2024-12-02T21:24:50.938777Z"
    }
   },
   "outputs": [],
   "source": [
    "df_police.rename(columns={'Latitude': 'latitude', 'Longitude': 'longitude',\n",
    "                         'Analysis Neighborhood':'neighbourhood'}, inplace=True)"
   ]
  },
  {
   "cell_type": "code",
   "execution_count": 33,
   "id": "9e88492a-c944-4f97-8a43-9b956c5ec8e3",
   "metadata": {
    "execution": {
     "iopub.execute_input": "2024-12-02T21:24:53.018320Z",
     "iopub.status.busy": "2024-12-02T21:24:53.018060Z",
     "iopub.status.idle": "2024-12-02T21:24:53.148587Z",
     "shell.execute_reply": "2024-12-02T21:24:53.147885Z",
     "shell.execute_reply.started": "2024-12-02T21:24:53.018303Z"
    }
   },
   "outputs": [],
   "source": [
    "#Deleting all the Na values in the neighbourhood column.\n",
    "df_Police_Cleaned = df_police.dropna(subset=['neighbourhood'])"
   ]
  },
  {
   "cell_type": "code",
   "execution_count": 36,
   "id": "2396258c-5ab5-4526-94cd-f527365f25ff",
   "metadata": {
    "execution": {
     "iopub.execute_input": "2024-12-02T21:24:55.332881Z",
     "iopub.status.busy": "2024-12-02T21:24:55.332659Z",
     "iopub.status.idle": "2024-12-02T21:24:55.351740Z",
     "shell.execute_reply": "2024-12-02T21:24:55.351223Z",
     "shell.execute_reply.started": "2024-12-02T21:24:55.332865Z"
    }
   },
   "outputs": [],
   "source": [
    "# Proceed to reset the index. \n",
    "df_Police_Cleaned.reset_index(drop=True,inplace=True)  "
   ]
  },
  {
   "cell_type": "code",
   "execution_count": 38,
   "id": "9a5f2a13-ddae-47fc-97ff-df39abbe1d08",
   "metadata": {
    "execution": {
     "iopub.execute_input": "2024-12-02T21:24:55.712216Z",
     "iopub.status.busy": "2024-12-02T21:24:55.711923Z",
     "iopub.status.idle": "2024-12-02T21:24:55.728938Z",
     "shell.execute_reply": "2024-12-02T21:24:55.728389Z",
     "shell.execute_reply.started": "2024-12-02T21:24:55.712198Z"
    }
   },
   "outputs": [],
   "source": [
    "#Rewriting and cleaning neighbourhood column in Police Dataset to a complete match to AirBnB."
   ]
  },
  {
   "cell_type": "code",
   "execution_count": 40,
   "id": "a189f24b-202a-4305-9f56-8cb0123b1419",
   "metadata": {
    "execution": {
     "iopub.execute_input": "2024-12-02T21:24:56.104065Z",
     "iopub.status.busy": "2024-12-02T21:24:56.103747Z",
     "iopub.status.idle": "2024-12-02T21:24:56.321542Z",
     "shell.execute_reply": "2024-12-02T21:24:56.320837Z",
     "shell.execute_reply.started": "2024-12-02T21:24:56.104046Z"
    }
   },
   "outputs": [],
   "source": [
    "df_Police_Cleaned.loc[:, 'neighbourhood'] = df_Police_Cleaned['neighbourhood'].str.replace('Hunters Point', '', regex=False)"
   ]
  },
  {
   "cell_type": "code",
   "execution_count": 45,
   "id": "119a61c3-8081-4a42-ac8c-7449706505fc",
   "metadata": {
    "execution": {
     "iopub.execute_input": "2024-12-02T21:24:57.685403Z",
     "iopub.status.busy": "2024-12-02T21:24:57.685072Z",
     "iopub.status.idle": "2024-12-02T21:24:57.900234Z",
     "shell.execute_reply": "2024-12-02T21:24:57.899601Z",
     "shell.execute_reply.started": "2024-12-02T21:24:57.685366Z"
    }
   },
   "outputs": [],
   "source": [
    "df_Police_Cleaned.loc[:, 'neighbourhood'] = df_Police_Cleaned['neighbourhood'].str.replace('/South Beach', '', regex=False)"
   ]
  },
  {
   "cell_type": "code",
   "execution_count": 47,
   "id": "652d7d66-efed-4b88-91b3-c08f2697cd6c",
   "metadata": {
    "execution": {
     "iopub.execute_input": "2024-12-02T21:24:58.338236Z",
     "iopub.status.busy": "2024-12-02T21:24:58.337739Z",
     "iopub.status.idle": "2024-12-02T21:24:58.352338Z",
     "shell.execute_reply": "2024-12-02T21:24:58.351682Z",
     "shell.execute_reply.started": "2024-12-02T21:24:58.338216Z"
    }
   },
   "outputs": [],
   "source": [
    "#Filtering Police Dataset from 2023 to 2024 in order to have a smaller and more significant sample."
   ]
  },
  {
   "cell_type": "code",
   "execution_count": 51,
   "id": "01155e08-d347-4774-8a74-c5640e0b4ecc",
   "metadata": {
    "execution": {
     "iopub.execute_input": "2024-12-02T21:25:01.209679Z",
     "iopub.status.busy": "2024-12-02T21:25:01.209126Z",
     "iopub.status.idle": "2024-12-02T21:25:01.346292Z",
     "shell.execute_reply": "2024-12-02T21:25:01.345632Z",
     "shell.execute_reply.started": "2024-12-02T21:25:01.209654Z"
    }
   },
   "outputs": [],
   "source": [
    "df_Police_2023= df_Police_Cleaned[(df_Police_Cleaned['Incident Date'] >= '2023-01-01') & \n",
    "(df_Police_Cleaned['Incident Date'] <= '2024-09-01')]"
   ]
  },
  {
   "cell_type": "code",
   "execution_count": 54,
   "id": "b2f7f03e-302a-47c0-bf1a-63d271f2fbdc",
   "metadata": {
    "execution": {
     "iopub.execute_input": "2024-12-02T21:25:03.901479Z",
     "iopub.status.busy": "2024-12-02T21:25:03.901206Z",
     "iopub.status.idle": "2024-12-02T21:25:03.919570Z",
     "shell.execute_reply": "2024-12-02T21:25:03.918950Z",
     "shell.execute_reply.started": "2024-12-02T21:25:03.901454Z"
    }
   },
   "outputs": [],
   "source": [
    "df_Police_2023.reset_index(drop=True,inplace=True)"
   ]
  },
  {
   "cell_type": "code",
   "execution_count": 57,
   "id": "6b814338-32b7-4f14-869b-994670335cc7",
   "metadata": {
    "execution": {
     "iopub.execute_input": "2024-12-02T21:25:07.365915Z",
     "iopub.status.busy": "2024-12-02T21:25:07.365511Z",
     "iopub.status.idle": "2024-12-02T21:25:07.394455Z",
     "shell.execute_reply": "2024-12-02T21:25:07.393918Z",
     "shell.execute_reply.started": "2024-12-02T21:25:07.365895Z"
    }
   },
   "outputs": [
    {
     "data": {
      "text/plain": [
       "array(['Golden Gate Park', 'Potrero Hill', 'Tenderloin', 'Noe Valley',\n",
       "       'Nob Hill', 'Presidio Heights', 'Castro/Upper Market', 'Mission',\n",
       "       'Financial District', 'Sunset/Parkside', 'Inner Richmond',\n",
       "       'Western Addition', 'West of Twin Peaks', 'South of Market',\n",
       "       'Marina', 'Bayview ', 'Bernal Heights', 'Pacific Heights',\n",
       "       'Excelsior', 'Inner Sunset', 'North Beach', 'Hayes Valley',\n",
       "       'Lone Mountain/USF', 'Portola', 'Lakeshore', 'Outer Mission',\n",
       "       'Mission Bay', 'Glen Park', 'Outer Richmond', 'Chinatown',\n",
       "       'Japantown', 'Twin Peaks', 'Oceanview/Merced/Ingleside',\n",
       "       'Visitacion Valley', 'Haight Ashbury', 'Russian Hill',\n",
       "       'Lincoln Park', 'McLaren Park', 'Presidio', 'Treasure Island',\n",
       "       'Seacliff'], dtype=object)"
      ]
     },
     "execution_count": 57,
     "metadata": {},
     "output_type": "execute_result"
    }
   ],
   "source": [
    "#Checking the unique values of both Datasets.\n",
    "df_Police_2023['neighbourhood'].unique()"
   ]
  },
  {
   "cell_type": "code",
   "execution_count": 60,
   "id": "2d7b5579-0246-4392-a346-70169838687f",
   "metadata": {
    "execution": {
     "iopub.execute_input": "2024-12-02T21:25:09.211934Z",
     "iopub.status.busy": "2024-12-02T21:25:09.211652Z",
     "iopub.status.idle": "2024-12-02T21:25:09.231899Z",
     "shell.execute_reply": "2024-12-02T21:25:09.231252Z",
     "shell.execute_reply.started": "2024-12-02T21:25:09.211909Z"
    }
   },
   "outputs": [
    {
     "data": {
      "text/plain": [
       "array(['Financial District', 'Downtown/Civic Center', 'Noe Valley',\n",
       "       'Outer Sunset', 'South of Market', 'Parkside', 'Marina',\n",
       "       'Pacific Heights', 'Outer Mission', 'West of Twin Peaks',\n",
       "       'Excelsior', 'Castro/Upper Market', 'Western Addition',\n",
       "       'Russian Hill', 'Haight Ashbury', 'Chinatown', 'Nob Hill',\n",
       "       'North Beach', 'Outer Richmond', 'Twin Peaks', 'Inner Richmond',\n",
       "       'Bayview', 'Ocean View', 'Mission', 'Potrero Hill',\n",
       "       'Bernal Heights', 'Inner Sunset', 'Presidio Heights',\n",
       "       'Crocker Amazon', 'Lakeshore', 'Visitacion Valley', 'Glen Park',\n",
       "       'Presidio', 'Seacliff', 'Diamond Heights', 'Golden Gate Park',\n",
       "       'Treasure Island'], dtype=object)"
      ]
     },
     "execution_count": 60,
     "metadata": {},
     "output_type": "execute_result"
    }
   ],
   "source": [
    "df_Air['neighbourhood'].unique()"
   ]
  },
  {
   "cell_type": "code",
   "execution_count": 63,
   "id": "3fcffae6-f98c-4a3f-9683-6f1b6d0de806",
   "metadata": {
    "execution": {
     "iopub.execute_input": "2024-12-02T21:25:16.451629Z",
     "iopub.status.busy": "2024-12-02T21:25:16.451429Z",
     "iopub.status.idle": "2024-12-02T21:25:16.468766Z",
     "shell.execute_reply": "2024-12-02T21:25:16.468173Z",
     "shell.execute_reply.started": "2024-12-02T21:25:16.451613Z"
    }
   },
   "outputs": [],
   "source": [
    "#Need to delete the space added to Bayview when modified in order to match, modify names."
   ]
  },
  {
   "cell_type": "code",
   "execution_count": 66,
   "id": "ab10733c-e6ca-4ce6-bdbe-eb5d001bcecf",
   "metadata": {
    "execution": {
     "iopub.execute_input": "2024-12-02T21:25:19.458982Z",
     "iopub.status.busy": "2024-12-02T21:25:19.458717Z",
     "iopub.status.idle": "2024-12-02T21:25:19.473046Z",
     "shell.execute_reply": "2024-12-02T21:25:19.472376Z",
     "shell.execute_reply.started": "2024-12-02T21:25:19.458960Z"
    }
   },
   "outputs": [],
   "source": [
    "df_Air.loc[:, 'neighbourhood'] = df_Air['neighbourhood'].str.strip()"
   ]
  },
  {
   "cell_type": "code",
   "execution_count": 69,
   "id": "607b219b-5521-413b-979e-f3175b9c73c0",
   "metadata": {
    "execution": {
     "iopub.execute_input": "2024-12-02T21:25:20.270449Z",
     "iopub.status.busy": "2024-12-02T21:25:20.270207Z",
     "iopub.status.idle": "2024-12-02T21:25:20.361492Z",
     "shell.execute_reply": "2024-12-02T21:25:20.360706Z",
     "shell.execute_reply.started": "2024-12-02T21:25:20.270430Z"
    }
   },
   "outputs": [],
   "source": [
    "df_Police_Cleaned.loc[:, 'neighbourhood'] = df_Police_2023['neighbourhood'].str.strip()"
   ]
  },
  {
   "cell_type": "code",
   "execution_count": 72,
   "id": "f964c160-30f8-4969-a3eb-5dbbe3ccbb81",
   "metadata": {
    "execution": {
     "iopub.execute_input": "2024-12-02T21:25:26.812744Z",
     "iopub.status.busy": "2024-12-02T21:25:26.812447Z",
     "iopub.status.idle": "2024-12-02T21:25:26.831939Z",
     "shell.execute_reply": "2024-12-02T21:25:26.831300Z",
     "shell.execute_reply.started": "2024-12-02T21:25:26.812726Z"
    }
   },
   "outputs": [],
   "source": [
    "#Checking which neighborhoods are present in Police Dataset.\n",
    "df_Air['col1_in_df2'] = df_Air['neighbourhood'].isin(df_Police_2023['neighbourhood'])"
   ]
  },
  {
   "cell_type": "code",
   "execution_count": 75,
   "id": "a6fc4217-187b-4f24-bb8b-2978610149a4",
   "metadata": {
    "execution": {
     "iopub.execute_input": "2024-12-02T21:25:27.483114Z",
     "iopub.status.busy": "2024-12-02T21:25:27.482905Z",
     "iopub.status.idle": "2024-12-02T21:25:27.497492Z",
     "shell.execute_reply": "2024-12-02T21:25:27.496971Z",
     "shell.execute_reply.started": "2024-12-02T21:25:27.483099Z"
    }
   },
   "outputs": [],
   "source": [
    "true_rows = df_Air[df_Air['col1_in_df2'] == True]"
   ]
  },
  {
   "cell_type": "code",
   "execution_count": 78,
   "id": "24c2b7f2-bfb4-4813-b703-3fcc831adaa0",
   "metadata": {
    "execution": {
     "iopub.execute_input": "2024-12-02T21:25:30.298393Z",
     "iopub.status.busy": "2024-12-02T21:25:30.297758Z",
     "iopub.status.idle": "2024-12-02T21:25:30.314496Z",
     "shell.execute_reply": "2024-12-02T21:25:30.313922Z",
     "shell.execute_reply.started": "2024-12-02T21:25:30.298367Z"
    }
   },
   "outputs": [],
   "source": [
    "#This would be ideal but kernels keep dying so need to make it smaller.\n",
    "#merged_df = pd.merge(df_Police_2023, df_Air, on='neighbourhood', how='inner')"
   ]
  },
  {
   "cell_type": "code",
   "execution_count": 81,
   "id": "95833e64-0dde-44e8-9fb8-10c6adce89eb",
   "metadata": {
    "execution": {
     "iopub.execute_input": "2024-12-02T21:25:31.792893Z",
     "iopub.status.busy": "2024-12-02T21:25:31.792661Z",
     "iopub.status.idle": "2024-12-02T21:25:31.826372Z",
     "shell.execute_reply": "2024-12-02T21:25:31.825805Z",
     "shell.execute_reply.started": "2024-12-02T21:25:31.792877Z"
    }
   },
   "outputs": [],
   "source": [
    "df_Mission = df_Police_2023[df_Police_2023['neighbourhood'] == 'Mission']"
   ]
  },
  {
   "cell_type": "code",
   "execution_count": 84,
   "id": "5d0222f1-fc1e-495d-9619-c283d7a7d3a6",
   "metadata": {
    "execution": {
     "iopub.execute_input": "2024-12-02T21:25:35.563571Z",
     "iopub.status.busy": "2024-12-02T21:25:35.563343Z",
     "iopub.status.idle": "2024-12-02T21:25:37.532779Z",
     "shell.execute_reply": "2024-12-02T21:25:37.531887Z",
     "shell.execute_reply.started": "2024-12-02T21:25:35.563556Z"
    }
   },
   "outputs": [],
   "source": [
    "df_merged = pd.merge(df_Mission, df_Air, on='neighbourhood', how='inner')"
   ]
  },
  {
   "cell_type": "code",
   "execution_count": 101,
   "id": "8529b0c3-308c-40a3-ab43-a6d9c9370c96",
   "metadata": {
    "execution": {
     "iopub.execute_input": "2024-12-02T21:28:47.697518Z",
     "iopub.status.busy": "2024-12-02T21:28:47.697264Z",
     "iopub.status.idle": "2024-12-02T21:28:47.727242Z",
     "shell.execute_reply": "2024-12-02T21:28:47.726579Z",
     "shell.execute_reply.started": "2024-12-02T21:28:47.697494Z"
    }
   },
   "outputs": [
    {
     "data": {
      "text/html": [
       "<div>\n",
       "<style scoped>\n",
       "    .dataframe tbody tr th:only-of-type {\n",
       "        vertical-align: middle;\n",
       "    }\n",
       "\n",
       "    .dataframe tbody tr th {\n",
       "        vertical-align: top;\n",
       "    }\n",
       "\n",
       "    .dataframe thead th {\n",
       "        text-align: right;\n",
       "    }\n",
       "</style>\n",
       "<table border=\"1\" class=\"dataframe\">\n",
       "  <thead>\n",
       "    <tr style=\"text-align: right;\">\n",
       "      <th></th>\n",
       "      <th>Incident Date</th>\n",
       "      <th>Incident Time</th>\n",
       "      <th>Incident Year</th>\n",
       "      <th>Incident Number</th>\n",
       "      <th>Incident Category</th>\n",
       "      <th>Intersection</th>\n",
       "      <th>Police District</th>\n",
       "      <th>neighbourhood</th>\n",
       "      <th>latitude_x</th>\n",
       "      <th>longitude_x</th>\n",
       "      <th>...</th>\n",
       "      <th>room_type</th>\n",
       "      <th>price</th>\n",
       "      <th>minimum_nights</th>\n",
       "      <th>number_of_reviews</th>\n",
       "      <th>last_review</th>\n",
       "      <th>reviews_per_month</th>\n",
       "      <th>calculated_host_listings_count</th>\n",
       "      <th>availability_365</th>\n",
       "      <th>number_of_reviews_ltm</th>\n",
       "      <th>col1_in_df2</th>\n",
       "    </tr>\n",
       "  </thead>\n",
       "  <tbody>\n",
       "    <tr>\n",
       "      <th>0</th>\n",
       "      <td>2023/02/01</td>\n",
       "      <td>14:50</td>\n",
       "      <td>2023</td>\n",
       "      <td>230078055</td>\n",
       "      <td>Robbery</td>\n",
       "      <td>23RD ST \\ VALENCIA ST</td>\n",
       "      <td>Mission</td>\n",
       "      <td>Mission</td>\n",
       "      <td>37.753703</td>\n",
       "      <td>-122.420812</td>\n",
       "      <td>...</td>\n",
       "      <td>Entire home/apt</td>\n",
       "      <td>110.0</td>\n",
       "      <td>30</td>\n",
       "      <td>7</td>\n",
       "      <td>2023-05-25</td>\n",
       "      <td>0.20</td>\n",
       "      <td>3</td>\n",
       "      <td>364</td>\n",
       "      <td>0</td>\n",
       "      <td>True</td>\n",
       "    </tr>\n",
       "    <tr>\n",
       "      <th>1</th>\n",
       "      <td>2023/02/01</td>\n",
       "      <td>14:50</td>\n",
       "      <td>2023</td>\n",
       "      <td>230078055</td>\n",
       "      <td>Robbery</td>\n",
       "      <td>23RD ST \\ VALENCIA ST</td>\n",
       "      <td>Mission</td>\n",
       "      <td>Mission</td>\n",
       "      <td>37.753703</td>\n",
       "      <td>-122.420812</td>\n",
       "      <td>...</td>\n",
       "      <td>Entire home/apt</td>\n",
       "      <td>NaN</td>\n",
       "      <td>2</td>\n",
       "      <td>6</td>\n",
       "      <td>2023-10-05</td>\n",
       "      <td>0.05</td>\n",
       "      <td>1</td>\n",
       "      <td>0</td>\n",
       "      <td>3</td>\n",
       "      <td>True</td>\n",
       "    </tr>\n",
       "    <tr>\n",
       "      <th>2</th>\n",
       "      <td>2023/02/01</td>\n",
       "      <td>14:50</td>\n",
       "      <td>2023</td>\n",
       "      <td>230078055</td>\n",
       "      <td>Robbery</td>\n",
       "      <td>23RD ST \\ VALENCIA ST</td>\n",
       "      <td>Mission</td>\n",
       "      <td>Mission</td>\n",
       "      <td>37.753703</td>\n",
       "      <td>-122.420812</td>\n",
       "      <td>...</td>\n",
       "      <td>Entire home/apt</td>\n",
       "      <td>245.0</td>\n",
       "      <td>3</td>\n",
       "      <td>49</td>\n",
       "      <td>2023-08-10</td>\n",
       "      <td>0.44</td>\n",
       "      <td>1</td>\n",
       "      <td>13</td>\n",
       "      <td>0</td>\n",
       "      <td>True</td>\n",
       "    </tr>\n",
       "    <tr>\n",
       "      <th>3</th>\n",
       "      <td>2023/02/01</td>\n",
       "      <td>14:50</td>\n",
       "      <td>2023</td>\n",
       "      <td>230078055</td>\n",
       "      <td>Robbery</td>\n",
       "      <td>23RD ST \\ VALENCIA ST</td>\n",
       "      <td>Mission</td>\n",
       "      <td>Mission</td>\n",
       "      <td>37.753703</td>\n",
       "      <td>-122.420812</td>\n",
       "      <td>...</td>\n",
       "      <td>Entire home/apt</td>\n",
       "      <td>183.0</td>\n",
       "      <td>3</td>\n",
       "      <td>604</td>\n",
       "      <td>2024-09-01</td>\n",
       "      <td>5.10</td>\n",
       "      <td>2</td>\n",
       "      <td>132</td>\n",
       "      <td>57</td>\n",
       "      <td>True</td>\n",
       "    </tr>\n",
       "    <tr>\n",
       "      <th>4</th>\n",
       "      <td>2023/02/01</td>\n",
       "      <td>14:50</td>\n",
       "      <td>2023</td>\n",
       "      <td>230078055</td>\n",
       "      <td>Robbery</td>\n",
       "      <td>23RD ST \\ VALENCIA ST</td>\n",
       "      <td>Mission</td>\n",
       "      <td>Mission</td>\n",
       "      <td>37.753703</td>\n",
       "      <td>-122.420812</td>\n",
       "      <td>...</td>\n",
       "      <td>Private room</td>\n",
       "      <td>NaN</td>\n",
       "      <td>1</td>\n",
       "      <td>59</td>\n",
       "      <td>2024-04-21</td>\n",
       "      <td>0.77</td>\n",
       "      <td>3</td>\n",
       "      <td>0</td>\n",
       "      <td>1</td>\n",
       "      <td>True</td>\n",
       "    </tr>\n",
       "  </tbody>\n",
       "</table>\n",
       "<p>5 rows × 23 columns</p>\n",
       "</div>"
      ],
      "text/plain": [
       "  Incident Date Incident Time  Incident Year  Incident Number  \\\n",
       "0    2023/02/01         14:50           2023        230078055   \n",
       "1    2023/02/01         14:50           2023        230078055   \n",
       "2    2023/02/01         14:50           2023        230078055   \n",
       "3    2023/02/01         14:50           2023        230078055   \n",
       "4    2023/02/01         14:50           2023        230078055   \n",
       "\n",
       "  Incident Category           Intersection Police District neighbourhood  \\\n",
       "0           Robbery  23RD ST \\ VALENCIA ST         Mission       Mission   \n",
       "1           Robbery  23RD ST \\ VALENCIA ST         Mission       Mission   \n",
       "2           Robbery  23RD ST \\ VALENCIA ST         Mission       Mission   \n",
       "3           Robbery  23RD ST \\ VALENCIA ST         Mission       Mission   \n",
       "4           Robbery  23RD ST \\ VALENCIA ST         Mission       Mission   \n",
       "\n",
       "   latitude_x  longitude_x  ...        room_type  price  minimum_nights  \\\n",
       "0   37.753703  -122.420812  ...  Entire home/apt  110.0              30   \n",
       "1   37.753703  -122.420812  ...  Entire home/apt    NaN               2   \n",
       "2   37.753703  -122.420812  ...  Entire home/apt  245.0               3   \n",
       "3   37.753703  -122.420812  ...  Entire home/apt  183.0               3   \n",
       "4   37.753703  -122.420812  ...     Private room    NaN               1   \n",
       "\n",
       "  number_of_reviews  last_review  reviews_per_month  \\\n",
       "0                 7   2023-05-25               0.20   \n",
       "1                 6   2023-10-05               0.05   \n",
       "2                49   2023-08-10               0.44   \n",
       "3               604   2024-09-01               5.10   \n",
       "4                59   2024-04-21               0.77   \n",
       "\n",
       "   calculated_host_listings_count availability_365  number_of_reviews_ltm  \\\n",
       "0                               3              364                      0   \n",
       "1                               1                0                      3   \n",
       "2                               1               13                      0   \n",
       "3                               2              132                     57   \n",
       "4                               3                0                      1   \n",
       "\n",
       "   col1_in_df2  \n",
       "0         True  \n",
       "1         True  \n",
       "2         True  \n",
       "3         True  \n",
       "4         True  \n",
       "\n",
       "[5 rows x 23 columns]"
      ]
     },
     "execution_count": 101,
     "metadata": {},
     "output_type": "execute_result"
    }
   ],
   "source": [
    "df_merged.head()"
   ]
  },
  {
   "cell_type": "code",
   "execution_count": 107,
   "id": "33635b54-7993-415d-960a-63f4c459409a",
   "metadata": {
    "execution": {
     "iopub.execute_input": "2024-12-02T21:30:05.907234Z",
     "iopub.status.busy": "2024-12-02T21:30:05.907023Z",
     "iopub.status.idle": "2024-12-02T21:30:06.859208Z",
     "shell.execute_reply": "2024-12-02T21:30:06.858635Z",
     "shell.execute_reply.started": "2024-12-02T21:30:05.907218Z"
    }
   },
   "outputs": [],
   "source": [
    "df_merged['Incident Date'] = pd.to_datetime(df_merged['Incident Date'], errors='coerce')"
   ]
  },
  {
   "cell_type": "code",
   "execution_count": 254,
   "id": "b87ff9ca-ae57-4a64-a0d5-9e0fa6989354",
   "metadata": {
    "execution": {
     "iopub.execute_input": "2024-12-02T22:40:29.905990Z",
     "iopub.status.busy": "2024-12-02T22:40:29.905735Z",
     "iopub.status.idle": "2024-12-02T22:40:30.711748Z",
     "shell.execute_reply": "2024-12-02T22:40:30.711236Z",
     "shell.execute_reply.started": "2024-12-02T22:40:29.905972Z"
    }
   },
   "outputs": [],
   "source": [
    "df_merged['Year-Month'] = df_merged['Incident Date'].dt.to_period('M')"
   ]
  },
  {
   "cell_type": "code",
   "execution_count": 257,
   "id": "16859d01-de7a-4908-b09a-d910ffff29ee",
   "metadata": {
    "execution": {
     "iopub.execute_input": "2024-12-02T22:41:10.084083Z",
     "iopub.status.busy": "2024-12-02T22:41:10.083854Z",
     "iopub.status.idle": "2024-12-02T22:41:26.569926Z",
     "shell.execute_reply": "2024-12-02T22:41:26.569405Z",
     "shell.execute_reply.started": "2024-12-02T22:41:10.084058Z"
    }
   },
   "outputs": [],
   "source": [
    "df_merged_unique = df_merged.drop_duplicates(subset=['Incident Number', 'Year-Month'])"
   ]
  },
  {
   "cell_type": "code",
   "execution_count": 259,
   "id": "346e753a-ab4e-4f5d-a763-48cd24305eaa",
   "metadata": {
    "execution": {
     "iopub.execute_input": "2024-12-02T22:41:26.591864Z",
     "iopub.status.busy": "2024-12-02T22:41:26.591387Z",
     "iopub.status.idle": "2024-12-02T22:41:26.616064Z",
     "shell.execute_reply": "2024-12-02T22:41:26.615511Z",
     "shell.execute_reply.started": "2024-12-02T22:41:26.591838Z"
    }
   },
   "outputs": [],
   "source": [
    "df_filtered = df_merged_unique[df_merged_unique['Year-Month'].dt.year.isin([2023, 2024])]"
   ]
  },
  {
   "cell_type": "code",
   "execution_count": 266,
   "id": "551c4727-95ce-4792-a10c-598e4c4f824c",
   "metadata": {
    "execution": {
     "iopub.execute_input": "2024-12-02T22:42:17.709952Z",
     "iopub.status.busy": "2024-12-02T22:42:17.709711Z",
     "iopub.status.idle": "2024-12-02T22:42:17.762882Z",
     "shell.execute_reply": "2024-12-02T22:42:17.762182Z",
     "shell.execute_reply.started": "2024-12-02T22:42:17.709926Z"
    }
   },
   "outputs": [],
   "source": [
    "incident_count_by_month = df_filtered.groupby('Year-Month')['Incident Number'].nunique().reset_index()"
   ]
  },
  {
   "cell_type": "code",
   "execution_count": 297,
   "id": "8d6c272d-b8be-4bcd-8d31-db6cf5927f65",
   "metadata": {
    "execution": {
     "iopub.execute_input": "2024-12-02T23:16:11.633629Z",
     "iopub.status.busy": "2024-12-02T23:16:11.633313Z",
     "iopub.status.idle": "2024-12-02T23:16:11.653646Z",
     "shell.execute_reply": "2024-12-02T23:16:11.653145Z",
     "shell.execute_reply.started": "2024-12-02T23:16:11.633606Z"
    }
   },
   "outputs": [],
   "source": [
    "review_count_by_month = df_filtered.groupby('Year-Month')['number_of_reviews'].sum().reset_index()\n"
   ]
  },
  {
   "cell_type": "code",
   "execution_count": 303,
   "id": "b91c5fa6-0d3a-4f81-aac7-461bda9d5131",
   "metadata": {
    "execution": {
     "iopub.execute_input": "2024-12-02T23:19:08.433205Z",
     "iopub.status.busy": "2024-12-02T23:19:08.432937Z",
     "iopub.status.idle": "2024-12-02T23:19:08.453055Z",
     "shell.execute_reply": "2024-12-02T23:19:08.452193Z",
     "shell.execute_reply.started": "2024-12-02T23:19:08.433182Z"
    }
   },
   "outputs": [],
   "source": [
    "merged_data = pd.merge(incident_count_by_month, review_count_by_month, left_on='Year-Month', right_on='Year-Month', how='outer')"
   ]
  },
  {
   "cell_type": "code",
   "execution_count": 285,
   "id": "d28d7cc2-d8e1-4248-8980-f772e8b59d9c",
   "metadata": {
    "execution": {
     "iopub.execute_input": "2024-12-02T22:56:54.401982Z",
     "iopub.status.busy": "2024-12-02T22:56:54.401766Z",
     "iopub.status.idle": "2024-12-02T22:56:54.737551Z",
     "shell.execute_reply": "2024-12-02T22:56:54.736750Z",
     "shell.execute_reply.started": "2024-12-02T22:56:54.401965Z"
    }
   },
   "outputs": [
    {
     "data": {
      "image/png": "[encoded data removed]",
      "text/plain": [
       "<Figure size 1000x600 with 1 Axes>"
      ]
     },
     "metadata": {},
     "output_type": "display_data"
    }
   ],
   "source": [
    "plt.figure(figsize=(10, 6))\n",
    "sns.barplot(x='Year-Month', y='Incident Number', data=incident_count_by_month,  palette='viridis')\n",
    "plt.title('Number of Unique Incidents by Month ')\n",
    "plt.xlabel('Month')\n",
    "plt.ylabel('Incident Count')\n",
    "plt.xticks(rotation=45)\n",
    "plt.tight_layout()"
   ]
  },
  {
   "cell_type": "code",
   "execution_count": 330,
   "id": "e33ec765-b7b9-41f6-81bc-8adb78709c44",
   "metadata": {
    "execution": {
     "iopub.execute_input": "2024-12-03T00:01:01.577441Z",
     "iopub.status.busy": "2024-12-03T00:01:01.577204Z",
     "iopub.status.idle": "2024-12-03T00:01:01.602950Z",
     "shell.execute_reply": "2024-12-03T00:01:01.602182Z",
     "shell.execute_reply.started": "2024-12-03T00:01:01.577424Z"
    }
   },
   "outputs": [],
   "source": [
    "merged_data['Year-Month-Str'] = merged_data['Year-Month'].dt.to_timestamp()"
   ]
  },
  {
   "cell_type": "code",
   "execution_count": 336,
   "id": "baab4050-b0c8-475e-9580-15cbd140049c",
   "metadata": {
    "execution": {
     "iopub.execute_input": "2024-12-03T00:01:30.042548Z",
     "iopub.status.busy": "2024-12-03T00:01:30.042299Z",
     "iopub.status.idle": "2024-12-03T00:01:30.413039Z",
     "shell.execute_reply": "2024-12-03T00:01:30.412394Z",
     "shell.execute_reply.started": "2024-12-03T00:01:30.042524Z"
    }
   },
   "outputs": [
    {
     "data": {
      "image/png": "[encoded data removed]",
      "text/plain": [
       "<Figure size 1200x600 with 1 Axes>"
      ]
     },
     "metadata": {},
     "output_type": "display_data"
    }
   ],
   "source": [
    "plt.figure(figsize=(12, 6))\n",
    "sns.scatterplot(x='Year-Month-Str', y='Incident Number', size='number_of_reviews', data=merged_data, \n",
    "                hue='Incident Number', palette='coolwarm', legend=None)\n",
    "plt.title('Incidents vs Reviews with Size Encoding for Review Count')\n",
    "plt.xlabel('Month')\n",
    "plt.ylabel('Incident Count')\n",
    "plt.xticks(rotation=45)\n",
    "plt.tight_layout()\n",
    "plt.show()"
   ]
  },
  {
   "cell_type": "code",
   "execution_count": null,
   "id": "e10df837-c9cb-4d77-8c4a-a59a2120d14a",
   "metadata": {},
   "outputs": [],
   "source": []
  },
  {
   "cell_type": "code",
   "execution_count": null,
   "id": "59a7d936-568c-4cb5-b58c-c89b97da39cf",
   "metadata": {},
   "outputs": [],
   "source": []
  },
  {
   "cell_type": "code",
   "execution_count": null,
   "id": "803bc382-becd-4ea5-8b0f-de0c759f35b6",
   "metadata": {},
   "outputs": [],
   "source": []
  },
  {
   "cell_type": "code",
   "execution_count": null,
   "id": "30708a37-6e09-484b-9058-04cc32ed95a2",
   "metadata": {},
   "outputs": [],
   "source": []
  },
  {
   "cell_type": "code",
   "execution_count": null,
   "id": "1b31c871-e1b3-42e2-b11d-93be2dc5c74f",
   "metadata": {},
   "outputs": [],
   "source": []
  }
 ],
 "metadata": {
  "kernelspec": {
   "display_name": "anaconda-panel-2023.05-py310",
   "language": "python",
   "name": "conda-env-anaconda-panel-2023.05-py310-py"
  },
  "language_info": {
   "codemirror_mode": {
    "name": "ipython",
    "version": 3
   },
   "file_extension": ".py",
   "mimetype": "text/x-python",
   "name": "python",
   "nbconvert_exporter": "python",
   "pygments_lexer": "ipython3",
   "version": "3.11.5"
  }
 },
 "nbformat": 4,
 "nbformat_minor": 5
}
